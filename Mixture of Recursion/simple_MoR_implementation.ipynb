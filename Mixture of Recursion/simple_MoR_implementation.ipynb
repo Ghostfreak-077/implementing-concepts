{
  "cells": [
    {
      "cell_type": "markdown",
      "metadata": {
        "id": "dR3TxQJ5EOau"
      },
      "source": [
        "## Config"
      ]
    },
    {
      "cell_type": "code",
      "execution_count": null,
      "metadata": {
        "id": "HsPmoHwCEMWv"
      },
      "outputs": [],
      "source": [
        "import torch\n",
        "\n",
        "config = {\n",
        "    \"vocab_size\": 50257,       # GPT2 tokenizer vocab\n",
        "    \"block_size\": 128,         # Max sequence length\n",
        "    \"embedding_dim\": 256,\n",
        "    \"num_heads\": 4,\n",
        "    \"ffn_dim\": 1024,\n",
        "    \"recursion_depth\": 3,\n",
        "    \"num_layers\": 1,           # Shared block count (usually 1–2)\n",
        "    \"batch_size\": 16,\n",
        "    \"lr\": 3e-4,\n",
        "    \"num_epochs\": 3,\n",
        "    \"device\": \"cuda\" if torch.cuda.is_available() else \"cpu\"\n",
        "}\n"
      ]
    },
    {
      "cell_type": "markdown",
      "metadata": {
        "id": "57siunI3DRTh"
      },
      "source": [
        "## Dataset"
      ]
    },
    {
      "cell_type": "code",
      "execution_count": 2,
      "metadata": {
        "id": "xmYe4W8kDG1c"
      },
      "outputs": [],
      "source": [
        "!pip install datasets transformers einops matplotlib seaborn --quiet"
      ]
    },
    {
      "cell_type": "code",
      "execution_count": null,
      "metadata": {
        "id": "H1OSkZLPEUoU"
      },
      "outputs": [],
      "source": [
        "from datasets import load_dataset\n",
        "from transformers import GPT2TokenizerFast\n",
        "\n",
        "tokenizer = GPT2TokenizerFast.from_pretrained(\"gpt2\")\n",
        "tokenizer.pad_token = tokenizer.eos_token  # GPT2 doesn't have pad token\n",
        "\n",
        "dataset = load_dataset(\"wikitext\", \"wikitext-2-raw-v1\")\n",
        "text_data = dataset[\"train\"][\"text\"]\n",
        "\n",
        "# Filter short lines and tokenize\n",
        "cleaned = [line for line in text_data if len(line.strip()) > 20]\n",
        "joined = \" \".join(cleaned)\n",
        "\n",
        "tokens = tokenizer(joined, return_tensors='pt', truncation=False)[\"input_ids\"][0]\n",
        "block_size = config[\"block_size\"]\n",
        "\n",
        "# Split into sequences\n",
        "sequences = [tokens[i:i+block_size] for i in range(0, len(tokens)-block_size, block_size)]\n",
        "print(f\"Loaded {len(sequences)} sequences of length {block_size}\")\n"
      ]
    },
    {
      "cell_type": "code",
      "execution_count": 4,
      "metadata": {
        "id": "jZ0K6LGCE6_i"
      },
      "outputs": [],
      "source": [
        "from torch.utils.data import Dataset, DataLoader\n",
        "import torch\n",
        "\n",
        "class ToyTextDataset(Dataset):\n",
        "    def __init__(self, sequences):\n",
        "        self.sequences = sequences\n",
        "\n",
        "    def __len__(self):\n",
        "        return len(self.sequences)\n",
        "\n",
        "    def __getitem__(self, idx):\n",
        "        x = self.sequences[idx][:-1]\n",
        "        y = self.sequences[idx][1:]\n",
        "        return x, y\n",
        "\n",
        "train_dataset = ToyTextDataset(sequences)\n",
        "train_loader = DataLoader(train_dataset, batch_size=config[\"batch_size\"], shuffle=True)\n"
      ]
    },
    {
      "cell_type": "code",
      "execution_count": 5,
      "metadata": {
        "colab": {
          "base_uri": "https://localhost:8080/"
        },
        "id": "t-dd6srLE95j",
        "outputId": "af69c54b-1d11-4d31-a558-4983ffbb956c"
      },
      "outputs": [
        {
          "name": "stdout",
          "output_type": "stream",
          "text": [
            "Input shape: torch.Size([16, 127]), Target shape: torch.Size([16, 127])\n",
            "Sample tokens: tensor([15342, 17704,   329, 44000,   366,   262, 40787,  4381,  1022,  6260])\n",
            "As text:  praised Brooks for illustrating \" the tacit agreement between writer and reader that is essential to the success of stories about the end of the world ... [ both ] agree to pretend that this is not fiction , that in fact the horrific tales of a war between humans\n"
          ]
        }
      ],
      "source": [
        "for x, y in train_loader:\n",
        "    print(f\"Input shape: {x.shape}, Target shape: {y.shape}\")\n",
        "    print(\"Sample tokens:\", x[0][:10])\n",
        "    print(\"As text:\", tokenizer.decode(x[0][:50]))\n",
        "    break"
      ]
    },
    {
      "cell_type": "markdown",
      "metadata": {
        "id": "qZuAbJEjFfBV"
      },
      "source": [
        "## Recursive Block + Routing Head"
      ]
    },
    {
      "cell_type": "code",
      "execution_count": null,
      "metadata": {
        "id": "mIbBDrg8FAms"
      },
      "outputs": [],
      "source": [
        "import torch\n",
        "import torch.nn as nn\n",
        "import torch.nn.functional as F\n",
        "\n",
        "class RecursiveTransformerBlock(nn.Module):\n",
        "    def __init__(self, config):\n",
        "        super().__init__()\n",
        "        self.ln1 = nn.LayerNorm(config[\"embedding_dim\"])\n",
        "        self.attn = nn.MultiheadAttention(\n",
        "            embed_dim=config[\"embedding_dim\"],\n",
        "            num_heads=config[\"num_heads\"],\n",
        "            batch_first=True\n",
        "        )\n",
        "        self.ln2 = nn.LayerNorm(config[\"embedding_dim\"])\n",
        "        self.ffn = nn.Sequential(\n",
        "            nn.Linear(config[\"embedding_dim\"], config[\"ffn_dim\"]),\n",
        "            nn.GELU(),\n",
        "            nn.Linear(config[\"ffn_dim\"], config[\"embedding_dim\"])\n",
        "        )\n",
        "\n",
        "    def forward(self, x, attn_mask=None, cache_kv=False):\n",
        "        # Self-attention\n",
        "        h = self.ln1(x)\n",
        "        attn_out, _ = self.attn(h, h, h, attn_mask=attn_mask)\n",
        "        x = x + attn_out\n",
        "\n",
        "        # Feedforward\n",
        "        h = self.ln2(x)\n",
        "        x = x + self.ffn(h)\n",
        "\n",
        "        if cache_kv: # Cache key/values for MoR\n",
        "          return x, h\n",
        "        return x\n"
      ]
    },
    {
      "cell_type": "code",
      "execution_count": 8,
      "metadata": {
        "id": "-CIWtzZ-FwXn"
      },
      "outputs": [],
      "source": [
        "class RoutingHead(nn.Module):\n",
        "    \"\"\"Token choice Routing\"\"\"\n",
        "    def __init__(self, config):\n",
        "        super().__init__()\n",
        "        self.recursion_depth = config[\"recursion_depth\"]\n",
        "        self.linear = nn.Linear(config[\"embedding_dim\"], config[\"recursion_depth\"])\n",
        "\n",
        "    def forward(self, x):\n",
        "        \"\"\"\n",
        "        x: [batch_size, seq_len, embed_dim]\n",
        "        returns: [batch_size, seq_len] integer depth values (1 to N_r)\n",
        "        \"\"\"\n",
        "        scores = self.linear(x)  # [B, T, N_r]\n",
        "        probs = F.softmax(scores, dim=-1)\n",
        "        depths = torch.argmax(probs, dim=-1) + 1  # Shift to [1, N_r]\n",
        "        return depths"
      ]
    },
    {
      "cell_type": "code",
      "execution_count": 9,
      "metadata": {
        "id": "Ptd30jSBGMBp"
      },
      "outputs": [],
      "source": [
        "class MoRModel(nn.Module):\n",
        "    def __init__(self, config):\n",
        "        super().__init__()\n",
        "        self.config = config\n",
        "        self.token_embed = nn.Embedding(config[\"vocab_size\"], config[\"embedding_dim\"])\n",
        "        self.pos_embed = nn.Parameter(torch.zeros(1, config[\"block_size\"], config[\"embedding_dim\"]))\n",
        "        self.routing_head = RoutingHead(config)\n",
        "\n",
        "        # Shared transformer block(s)\n",
        "        self.recursive_blocks = nn.ModuleList([\n",
        "            RecursiveTransformerBlock(config) for _ in range(config[\"num_layers\"])\n",
        "        ])\n",
        "\n",
        "        self.ln_f = nn.LayerNorm(config[\"embedding_dim\"])\n",
        "        self.lm_head = nn.Linear(config[\"embedding_dim\"], config[\"vocab_size\"], bias=False)\n",
        "\n",
        "    def forward(self, input_ids):\n",
        "        B, T = input_ids.size()\n",
        "        x = self.token_embed(input_ids) + self.pos_embed[:, :T, :]  # [B, T, D]\n",
        "\n",
        "        routing_depths = self.routing_head(x)  # [B, T], values in [1, N_r]\n",
        "\n",
        "        # Initialize hidden states\n",
        "        h = x\n",
        "        kv_cache = []\n",
        "\n",
        "        for r in range(1, self.config[\"recursion_depth\"] + 1):\n",
        "            # Create a mask: which tokens require at least r steps\n",
        "            active_mask = (routing_depths >= r).unsqueeze(-1)  # [B, T, 1]\n",
        "\n",
        "            for block in self.recursive_blocks:\n",
        "                h_new, kv = block(h, cache_kv=True)\n",
        "                kv_cache.append((kv * active_mask).detach())  # Optional: detach() to save memory\n",
        "                h = torch.where(active_mask, h_new, h)  # Update only active tokens\n",
        "\n",
        "        h = self.ln_f(h)\n",
        "        logits = self.lm_head(h)\n",
        "\n",
        "        return logits, routing_depths\n"
      ]
    },
    {
      "cell_type": "code",
      "execution_count": 10,
      "metadata": {
        "id": "x_gbq5tuGcBW"
      },
      "outputs": [],
      "source": [
        "import torch\n",
        "from torch import nn, optim\n",
        "from tqdm import tqdm\n",
        "\n",
        "# Initialize model\n",
        "model = MoRModel(config).to(config[\"device\"])\n",
        "optimizer = optim.AdamW(model.parameters(), lr=config[\"lr\"])\n",
        "criterion = nn.CrossEntropyLoss()\n"
      ]
    },
    {
      "cell_type": "markdown",
      "metadata": {
        "id": "kzBmKhvESqua"
      },
      "source": [
        "### Load Pre-trained Model"
      ]
    },
    {
      "cell_type": "code",
      "execution_count": 14,
      "metadata": {
        "colab": {
          "base_uri": "https://localhost:8080/"
        },
        "id": "t7llB2DOSaig",
        "outputId": "8c590c5e-c6b4-40b4-8aeb-4521a74e6397"
      },
      "outputs": [
        {
          "data": {
            "text/plain": [
              "<All keys matched successfully>"
            ]
          },
          "execution_count": 14,
          "metadata": {},
          "output_type": "execute_result"
        }
      ],
      "source": [
        "model.load_state_dict(torch.load(folder+\"/base_model.pth\", map_location=config['device']))"
      ]
    },
    {
      "cell_type": "code",
      "execution_count": 12,
      "metadata": {
        "colab": {
          "base_uri": "https://localhost:8080/"
        },
        "id": "zS8j7oNoQlgV",
        "outputId": "a6eb9c0f-d6ab-4ff8-fc1c-8d76c1c34143"
      },
      "outputs": [
        {
          "name": "stdout",
          "output_type": "stream",
          "text": [
            "Mounted at /content/drive\n"
          ]
        }
      ],
      "source": [
        "from google.colab import drive\n",
        "\n",
        "drive.mount('/content/drive')"
      ]
    },
    {
      "cell_type": "code",
      "execution_count": 13,
      "metadata": {
        "id": "IbfDKoeuRmKp"
      },
      "outputs": [],
      "source": [
        "folder = \"/content/drive/MyDrive/Implementation/Mixture of Recursions/files/models\""
      ]
    },
    {
      "cell_type": "markdown",
      "metadata": {
        "id": "i85hixr9NeJF"
      },
      "source": [
        "### Training Loop"
      ]
    },
    {
      "cell_type": "code",
      "execution_count": null,
      "metadata": {
        "id": "jRZfnBAvNvVC"
      },
      "outputs": [],
      "source": [
        "all_depths = []\n",
        "def train(model, dataloader, optimizer, criterion, config):\n",
        "    model.train()\n",
        "    for epoch in range(config[\"num_epochs\"]):\n",
        "        pbar = tqdm(dataloader, desc=f\"Epoch {epoch+1}\")\n",
        "        total_loss = 0\n",
        "\n",
        "        for x, y in pbar:\n",
        "            x = x.to(config[\"device\"])\n",
        "            y = y.to(config[\"device\"])\n",
        "\n",
        "            optimizer.zero_grad()\n",
        "            logits, depths = model(x)\n",
        "\n",
        "            # Shift logits and targets for LM training\n",
        "            logits = logits.view(-1, config[\"vocab_size\"])\n",
        "            y = y.view(-1)\n",
        "\n",
        "            loss = criterion(logits, y)\n",
        "            loss.backward()\n",
        "            optimizer.step()\n",
        "\n",
        "            total_loss += loss.item()\n",
        "            all_depths.append(depths.cpu())\n",
        "\n",
        "            pbar.set_postfix({\"loss\": loss.item()})\n",
        "\n",
        "        avg_loss = total_loss / len(dataloader)\n",
        "        print(f\"Epoch {epoch+1} Avg Loss: {avg_loss:.4f}\")\n",
        "        # print(f\"KV Cache Sizes: {[kv.abs().sum().item() for kv in kv_cache]}\")\n"
      ]
    },
    {
      "cell_type": "code",
      "execution_count": null,
      "metadata": {
        "colab": {
          "base_uri": "https://localhost:8080/"
        },
        "id": "VZi1MfImN49H",
        "outputId": "02afde16-e26c-460f-8d18-fcccb9cc2100"
      },
      "outputs": [
        {
          "name": "stderr",
          "output_type": "stream",
          "text": [
            "Epoch 1: 100%|██████████| 1168/1168 [01:27<00:00, 13.37it/s, loss=5.27]\n"
          ]
        },
        {
          "name": "stdout",
          "output_type": "stream",
          "text": [
            "Epoch 1 Avg Loss: 5.6129\n"
          ]
        },
        {
          "name": "stderr",
          "output_type": "stream",
          "text": [
            "Epoch 2: 100%|██████████| 1168/1168 [01:27<00:00, 13.35it/s, loss=5.23]\n"
          ]
        },
        {
          "name": "stdout",
          "output_type": "stream",
          "text": [
            "Epoch 2 Avg Loss: 5.1534\n"
          ]
        },
        {
          "name": "stderr",
          "output_type": "stream",
          "text": [
            "Epoch 3: 100%|██████████| 1168/1168 [01:27<00:00, 13.32it/s, loss=4.77]"
          ]
        },
        {
          "name": "stdout",
          "output_type": "stream",
          "text": [
            "Epoch 3 Avg Loss: 4.8295\n"
          ]
        },
        {
          "name": "stderr",
          "output_type": "stream",
          "text": [
            "\n"
          ]
        }
      ],
      "source": [
        "train(model, train_loader, optimizer, criterion, config)"
      ]
    },
    {
      "cell_type": "markdown",
      "metadata": {
        "id": "V0mJ3HHYRqMj"
      },
      "source": [
        "#### Save Model"
      ]
    },
    {
      "cell_type": "code",
      "execution_count": null,
      "metadata": {
        "id": "F_3maSdCRzJP"
      },
      "outputs": [],
      "source": [
        "torch.save(model.state_dict(), folder+\"/base_model.pth\")"
      ]
    },
    {
      "cell_type": "markdown",
      "metadata": {
        "id": "acUM07uGN0u4"
      },
      "source": [
        "### Visualize"
      ]
    },
    {
      "cell_type": "code",
      "execution_count": 15,
      "metadata": {
        "id": "wZkvp7q_Nx73"
      },
      "outputs": [],
      "source": [
        "import matplotlib.pyplot as plt\n",
        "import seaborn as sns\n",
        "import torch\n",
        "\n",
        "def plot_routing_distribution(depths, title=\"Routing Depth Distribution\"):\n",
        "    depths_flat = torch.cat(depths, dim=0).view(-1)\n",
        "    depths_np = depths_flat.numpy()\n",
        "    sns.histplot(depths_np, bins=config[\"recursion_depth\"], discrete=True)\n",
        "    plt.xlabel(\"Recursion Depth\")\n",
        "    plt.ylabel(\"Token Count\")\n",
        "    plt.title(title)\n",
        "    plt.show()\n"
      ]
    },
    {
      "cell_type": "markdown",
      "metadata": {
        "id": "-dWsWMiFQl-p"
      },
      "source": [
        "### Visualize Routing for custom Text"
      ]
    },
    {
      "cell_type": "code",
      "execution_count": 32,
      "metadata": {
        "id": "vz842ng_P6-P"
      },
      "outputs": [],
      "source": [
        "input_text = \"The quick brown fox jumps over the lazy dog.\"\n",
        "inputs = tokenizer(input_text, return_tensors=\"pt\", truncation=True, max_length=config[\"block_size\"])\n",
        "input_ids = inputs[\"input_ids\"].to(config[\"device\"])"
      ]
    },
    {
      "cell_type": "code",
      "execution_count": 33,
      "metadata": {
        "id": "8ZeNQVDEQuN2"
      },
      "outputs": [],
      "source": [
        "model.eval()\n",
        "with torch.no_grad():\n",
        "    logits, depths = model(input_ids)"
      ]
    },
    {
      "cell_type": "code",
      "execution_count": 47,
      "metadata": {
        "colab": {
          "base_uri": "https://localhost:8080/"
        },
        "id": "S0qZlLnDQwaf",
        "outputId": "ef8630ac-bbad-40dd-c3ae-0a11577381d9"
      },
      "outputs": [
        {
          "name": "stdout",
          "output_type": "stream",
          "text": [
            "The             →  Recursion Depth: 3\n",
            "quick           →  Recursion Depth: 3\n",
            "brown           →  Recursion Depth: 1\n",
            "fox             →  Recursion Depth: 1\n",
            "jumps           →  Recursion Depth: 3\n",
            "over            →  Recursion Depth: 1\n",
            "the             →  Recursion Depth: 1\n",
            "lazy            →  Recursion Depth: 2\n",
            "dog             →  Recursion Depth: 1\n",
            ".               →  Recursion Depth: 3\n"
          ]
        }
      ],
      "source": [
        "tokens = tokenizer.convert_ids_to_tokens(input_ids[0])\n",
        "tokens = [token.replace(\"Ġ\", \"\") for token in tokens]\n",
        "depth_values = depths[0].cpu().tolist()\n",
        "\n",
        "for tok, depth in zip(tokens, depth_values):\n",
        "    print(f\"{tok:<15} →  Recursion Depth: {depth}\")\n"
      ]
    },
    {
      "cell_type": "code",
      "execution_count": 48,
      "metadata": {
        "colab": {
          "base_uri": "https://localhost:8080/",
          "height": 198
        },
        "id": "LErHpdhdQyN0",
        "outputId": "472000b8-4dce-4578-9c2e-cf6b2c89dc82"
      },
      "outputs": [
        {
          "data": {
            "image/png": "[encoded data removed]",
            "text/plain": [
              "<Figure size 1200x150 with 2 Axes>"
            ]
          },
          "metadata": {},
          "output_type": "display_data"
        }
      ],
      "source": [
        "import seaborn as sns\n",
        "import matplotlib.pyplot as plt\n",
        "\n",
        "def plot_token_routing(tokens, depths):\n",
        "    plt.figure(figsize=(12, 1.5))\n",
        "    sns.heatmap([depths], annot=[tokens], fmt='', cmap=\"YlGnBu\", cbar=True)\n",
        "    plt.title(\"Token-wise Recursion Depth\")\n",
        "    plt.yticks([])  # Remove y-axis\n",
        "    plt.show()\n",
        "\n",
        "plot_token_routing(tokens, depth_values)"
      ]
    },
    {
      "cell_type": "code",
      "execution_count": 49,
      "metadata": {
        "id": "BWD8y4qaizY0"
      },
      "outputs": [],
      "source": [
        "import torch\n",
        "\n",
        "def compute_token_layer_map(routing_depths, max_depth):\n",
        "    \"\"\"\n",
        "    routing_depths: Tensor [seq_len] or [1, seq_len] — per-token depth\n",
        "    max_depth: int — maximum recursion depth (N_r)\n",
        "\n",
        "    Returns:\n",
        "        Tensor of shape [max_depth, seq_len], where\n",
        "        M[r][t] = 1 if token t was active at recursion step r+1\n",
        "    \"\"\"\n",
        "    if routing_depths.dim() == 2:\n",
        "        routing_depths = routing_depths[0]  # Take batch[0] if needed\n",
        "\n",
        "    seq_len = routing_depths.shape[0]\n",
        "    map_matrix = torch.zeros((max_depth, seq_len), dtype=torch.int)\n",
        "\n",
        "    for r in range(1, max_depth + 1):\n",
        "        active = (routing_depths >= r)  # shape: [seq_len]\n",
        "        map_matrix[r - 1] = active.int()  # row r-1 = 1 if token is active\n",
        "\n",
        "    return map_matrix\n"
      ]
    },
    {
      "cell_type": "code",
      "execution_count": 50,
      "metadata": {
        "colab": {
          "base_uri": "https://localhost:8080/"
        },
        "id": "lNsFRbbaS1yt",
        "outputId": "270c3346-4dcb-4fc6-ffbc-2855a06ff72e"
      },
      "outputs": [
        {
          "name": "stdout",
          "output_type": "stream",
          "text": [
            "torch.Size([3, 10])\n",
            "tensor([[1, 1, 1, 1, 1, 1, 1, 1, 1, 1],\n",
            "        [1, 1, 0, 0, 1, 0, 0, 1, 0, 1],\n",
            "        [1, 1, 0, 0, 1, 0, 0, 0, 0, 1]], dtype=torch.int32)\n"
          ]
        }
      ],
      "source": [
        "map_matrix = compute_token_layer_map(depths, config[\"recursion_depth\"])\n",
        "print(map_matrix.shape)  # [N_r, seq_len]\n",
        "print(map_matrix)"
      ]
    },
    {
      "cell_type": "code",
      "execution_count": 51,
      "metadata": {
        "id": "cSAgtRdNkXvT"
      },
      "outputs": [],
      "source": [
        "import matplotlib.pyplot as plt\n",
        "import seaborn as sns\n",
        "import torch\n",
        "from matplotlib.patches import Patch\n",
        "\n",
        "def plot_token_layer_map(map_matrix, tokens, max_tokens=40):\n",
        "    \"\"\"\n",
        "    map_matrix: [num_layers, seq_len]\n",
        "    tokens: list of strings (tokens)\n",
        "    max_tokens: how many tokens to show (for readability)\n",
        "    \"\"\"\n",
        "    num_layers, seq_len = map_matrix.shape\n",
        "\n",
        "    # Trim if too long\n",
        "    if seq_len > max_tokens:\n",
        "        map_matrix = map_matrix[:, :max_tokens]\n",
        "        tokens = tokens[:max_tokens]\n",
        "\n",
        "    # Custom colormap: 1 → dark gray (computed), 0 → light gray (skipped)\n",
        "    from matplotlib.colors import ListedColormap\n",
        "    cmap = ListedColormap([\"#eeeeee\", \"#444444\"])\n",
        "\n",
        "    colors = [\"#eeeeee\", \"#444444\"]\n",
        "    labels = ['Not Computed', 'Computed']\n",
        "\n",
        "    legend_elements = [Patch(facecolor=color, label=label) for color, label in zip(colors, labels)]\n",
        "\n",
        "    plt.figure(figsize=(1 + 0.35 * len(tokens), 1 + 0.5 * num_layers))\n",
        "    ax = sns.heatmap(\n",
        "        map_matrix.numpy(),\n",
        "        cmap=cmap,\n",
        "        linewidths=0.5,\n",
        "        linecolor='black',\n",
        "        cbar=False,\n",
        "        xticklabels=tokens,\n",
        "        yticklabels=[f\"R{r+1}\" for r in range(num_layers)],\n",
        "        square=False\n",
        "    )\n",
        "\n",
        "    ax.set_xlabel(\"Token Position\")\n",
        "    ax.set_ylabel(\"Recursion Step\")\n",
        "    ax.set_xticklabels(tokens, rotation=90, fontsize=8)\n",
        "    ax.set_yticklabels(ax.get_yticklabels(), rotation=0, fontsize=9)\n",
        "\n",
        "    plt.title(\"Token-wise Recursion Map\", fontsize=12)\n",
        "    plt.legend(handles=legend_elements, bbox_to_anchor=(1.05, 1), loc='upper left', borderaxespad=0.)\n",
        "    # plt.tight_layout()\n",
        "    plt.show()\n"
      ]
    },
    {
      "cell_type": "code",
      "execution_count": 52,
      "metadata": {
        "colab": {
          "base_uri": "https://localhost:8080/",
          "height": 315
        },
        "id": "xSZts5AEkiTG",
        "outputId": "2028e70d-9be2-42b5-8713-e90f78de2183"
      },
      "outputs": [
        {
          "data": {
            "image/png": "[encoded data removed]",
            "text/plain": [
              "<Figure size 450x250 with 1 Axes>"
            ]
          },
          "metadata": {},
          "output_type": "display_data"
        }
      ],
      "source": [
        "plot_token_layer_map(map_matrix, tokens)"
      ]
    },
    {
      "cell_type": "code",
      "execution_count": null,
      "metadata": {
        "id": "6n0zmHYkklM5"
      },
      "outputs": [],
      "source": []
    }
  ],
  "metadata": {
    "colab": {
      "provenance": []
    },
    "kernelspec": {
      "display_name": "Python 3",
      "name": "python3"
    },
    "language_info": {
      "name": "python"
    }
  },
  "nbformat": 4,
  "nbformat_minor": 0
}
