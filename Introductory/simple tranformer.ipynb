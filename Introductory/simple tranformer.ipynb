{
  "cells": [
    {
      "cell_type": "markdown",
      "metadata": {
        "id": "h35bT9GP9joZ"
      },
      "source": [
        "### Transformer Architecture"
      ]
    },
    {
      "cell_type": "code",
      "execution_count": 15,
      "metadata": {
        "id": "8-CfaKaaqYZd"
      },
      "outputs": [],
      "source": [
        "import torch\n",
        "import torch.nn as nn\n",
        "import math\n",
        "\n",
        "class ScaledDotProductAttention(nn.Module):\n",
        "    def __init__(self, d_k):\n",
        "        super().__init__()\n",
        "        self.scale = math.sqrt(d_k)\n",
        "\n",
        "    def forward(self, Q, K, V, mask=None):\n",
        "        attn_scores = torch.matmul(Q, K.transpose(-2, -1)) / self.scale\n",
        "        if mask is not None:\n",
        "            attn_scores = attn_scores + mask\n",
        "        attn_weights = torch.softmax(attn_scores, dim=-1)\n",
        "        output = torch.matmul(attn_weights, V)\n",
        "        return output, attn_weights\n"
      ]
    },
    {
      "cell_type": "code",
      "execution_count": 16,
      "metadata": {
        "id": "sc6ZekIHq7kE"
      },
      "outputs": [],
      "source": [
        "class MultiHeadAttention(nn.Module):\n",
        "    def __init__(self, d_model, n_heads):\n",
        "        super().__init__()\n",
        "        assert d_model % n_heads == 0\n",
        "        self.d_k = d_model // n_heads\n",
        "        self.n_heads = n_heads\n",
        "\n",
        "        self.W_q = nn.Linear(d_model, d_model)\n",
        "        self.W_k = nn.Linear(d_model, d_model)\n",
        "        self.W_v = nn.Linear(d_model, d_model)\n",
        "        self.W_o = nn.Linear(d_model, d_model)\n",
        "\n",
        "        self.attn = ScaledDotProductAttention(self.d_k)\n",
        "\n",
        "    def forward(self, x, mask=None):\n",
        "        B, T, C = x.size()\n",
        "        Q = self.W_q(x).view(B, T, self.n_heads, self.d_k).transpose(1, 2)\n",
        "        K = self.W_k(x).view(B, T, self.n_heads, self.d_k).transpose(1, 2)\n",
        "        V = self.W_v(x).view(B, T, self.n_heads, self.d_k).transpose(1, 2)\n",
        "\n",
        "        out, attn_weights = self.attn(Q, K, V, mask)\n",
        "        out = out.transpose(1, 2).contiguous().view(B, T, C)\n",
        "        return self.W_o(out)\n"
      ]
    },
    {
      "cell_type": "code",
      "execution_count": 17,
      "metadata": {
        "id": "Mj-mwGVZq9n6"
      },
      "outputs": [],
      "source": [
        "class PositionwiseFeedForward(nn.Module):\n",
        "    def __init__(self, d_model, d_ff):\n",
        "        super().__init__()\n",
        "        self.fc1 = nn.Linear(d_model, d_ff)\n",
        "        self.fc2 = nn.Linear(d_ff, d_model)\n",
        "        self.relu = nn.ReLU()\n",
        "\n",
        "    def forward(self, x):\n",
        "        return self.fc2(self.relu(self.fc1(x)))\n"
      ]
    },
    {
      "cell_type": "code",
      "execution_count": 18,
      "metadata": {
        "id": "qycCLijcrBu_"
      },
      "outputs": [],
      "source": [
        "class PositionalEncoding(nn.Module):\n",
        "    def __init__(self, d_model, max_len=5000):\n",
        "        super().__init__()\n",
        "        pe = torch.zeros(max_len, d_model)\n",
        "        position = torch.arange(0, max_len).unsqueeze(1)\n",
        "        div_term = torch.exp(torch.arange(0, d_model, 2) * (-math.log(10000.0) / d_model))\n",
        "        pe[:, 0::2] = torch.sin(position * div_term)\n",
        "        pe[:, 1::2] = torch.cos(position * div_term)\n",
        "        pe = pe.unsqueeze(0)\n",
        "        self.register_buffer('pe', pe)\n",
        "\n",
        "    def forward(self, x):\n",
        "        return x + self.pe[:, :x.size(1)]\n"
      ]
    },
    {
      "cell_type": "code",
      "execution_count": 19,
      "metadata": {
        "id": "JcgQY2aJrDLO"
      },
      "outputs": [],
      "source": [
        "class TransformerEncoderBlock(nn.Module):\n",
        "    def __init__(self, d_model, n_heads, d_ff, dropout=0.1):\n",
        "        super().__init__()\n",
        "        self.attn = MultiHeadAttention(d_model, n_heads)\n",
        "        self.ff = PositionwiseFeedForward(d_model, d_ff)\n",
        "        self.ln1 = nn.LayerNorm(d_model)\n",
        "        self.ln2 = nn.LayerNorm(d_model)\n",
        "        self.dropout = nn.Dropout(dropout)\n",
        "\n",
        "    def forward(self, x, mask=None):\n",
        "        attn_out = self.attn(x, mask)\n",
        "        x = self.ln1(x + self.dropout(attn_out))\n",
        "        ff_out = self.ff(x)\n",
        "        x = self.ln2(x + self.dropout(ff_out))\n",
        "        return x\n"
      ]
    },
    {
      "cell_type": "code",
      "execution_count": 20,
      "metadata": {
        "id": "RnxeO8DwnrzV"
      },
      "outputs": [],
      "source": [
        "class TransformerEncoder(nn.Module):\n",
        "    def __init__(self, vocab_size, d_model, n_heads, d_ff, num_layers, max_len, dropout=0.1):\n",
        "        super().__init__()\n",
        "        self.embedding = nn.Embedding(vocab_size, d_model)\n",
        "        self.pos_encoding = PositionalEncoding(d_model, max_len)\n",
        "        self.layers = nn.ModuleList([\n",
        "            TransformerEncoderBlock(d_model, n_heads, d_ff, dropout)\n",
        "            for _ in range(num_layers)\n",
        "        ])\n",
        "        self.ln_f = nn.LayerNorm(d_model)\n",
        "        self.fc_out = nn.Linear(d_model, vocab_size)\n",
        "\n",
        "    def forward(self, x, mask=None):\n",
        "        x = self.embedding(x)\n",
        "        x = self.pos_encoding(x)\n",
        "        for layer in self.layers:\n",
        "            x = layer(x, mask)\n",
        "        ln_out = self.ln_f(x)\n",
        "        logits = self.fc_out(ln_out)\n",
        "        return logits"
      ]
    },
    {
      "cell_type": "markdown",
      "metadata": {
        "id": "__hNNELtlp06"
      },
      "source": [
        "#### A simple tokenizer"
      ]
    },
    {
      "cell_type": "code",
      "execution_count": 21,
      "metadata": {
        "id": "zXPeZFlXlogm"
      },
      "outputs": [],
      "source": [
        "vocab_str = \"<pad> <bos> <eos> the cat is sat sitting by door dog barking mat open blue hello world mango sweet this scenario awesome Lorem ipsum dolor sit amet consectetur adipiscing elit Cras interdum quis ligula at ultricies Aliquam ullamcorper elit id fringilla pretium leo sapien posuere ex, eget placerat diam elit et turpis. Morbi tortor eros, vehicula quis consequat a, tempus vitae est Nunc congue lobortis turpis a tincidunt Quisque non accumsan ante .\"\n",
        "\n",
        "class vocabulary():\n",
        "  def __init__(self, vocab_str):\n",
        "    self.vocab = {word: index for index, word in enumerate(set(vocab_str.split(\" \")))}\n",
        "    self.inv_vocab = {index: word for word, index in self.vocab.items()}\n",
        "\n",
        "  # text → list of token ids\n",
        "  def tokenize(self, text):\n",
        "      tokens = text.lower().split()\n",
        "      return [self.vocab.get(token, 0) for token in tokens]\n",
        "\n",
        "  # list of token ids → text\n",
        "  def detokenize(self, token_ids):\n",
        "    return ' '.join([self.inv_vocab.get(tid, \"<unk>\") for tid in token_ids])\n",
        "\n",
        "tokenizer = vocabulary(vocab_str)"
      ]
    },
    {
      "cell_type": "code",
      "execution_count": 22,
      "metadata": {
        "id": "oL1MIc3110V9"
      },
      "outputs": [],
      "source": [
        "def causal_mask(size):\n",
        "  # [size, size] matrix with upper triangle -inf, and rest 0\n",
        "    mask = torch.triu(torch.ones(size, size), diagonal=1)\n",
        "    mask = mask.masked_fill(mask == 1, float('-inf'))\n",
        "    return mask"
      ]
    },
    {
      "cell_type": "markdown",
      "metadata": {
        "id": "RVK31yp9XDWt"
      },
      "source": [
        "### Model and configs"
      ]
    },
    {
      "cell_type": "code",
      "execution_count": 23,
      "metadata": {
        "colab": {
          "base_uri": "https://localhost:8080/"
        },
        "id": "dB9xigfg6Ers",
        "outputId": "0a8383d4-2ad6-44b8-9a0e-8e9eb5b7b140"
      },
      "outputs": [
        {
          "name": "stdout",
          "output_type": "stream",
          "text": [
            "20 29\n"
          ]
        }
      ],
      "source": [
        "pad_token_id = tokenizer.vocab[\"<pad>\"]\n",
        "eos_token_id = tokenizer.vocab[\"<eos>\"]\n",
        "print(pad_token_id, eos_token_id)"
      ]
    },
    {
      "cell_type": "code",
      "execution_count": 24,
      "metadata": {
        "id": "rEdPvqRlmyWx"
      },
      "outputs": [],
      "source": [
        "device = torch.device('cpu')"
      ]
    },
    {
      "cell_type": "code",
      "execution_count": 25,
      "metadata": {
        "id": "0D5q9Z0DnuHV"
      },
      "outputs": [],
      "source": [
        "model = TransformerEncoder(\n",
        "  vocab_size=len(tokenizer.vocab),\n",
        "  d_model=32,\n",
        "  n_heads=8,\n",
        "  d_ff=256,\n",
        "  num_layers=4,\n",
        "  max_len=100\n",
        ").to(device)"
      ]
    },
    {
      "cell_type": "code",
      "execution_count": 26,
      "metadata": {
        "id": "_3KrwhT6onrA"
      },
      "outputs": [],
      "source": [
        "import torch.optim as optim\n",
        "import torch.nn as nn\n",
        "\n",
        "loss_fn = nn.CrossEntropyLoss()\n",
        "optimizer = optim.Adam(model.parameters(), lr=1e-3)\n"
      ]
    },
    {
      "cell_type": "markdown",
      "metadata": {
        "id": "3jlHHNV_l9UB"
      },
      "source": [
        "#### Autoregressive Loop"
      ]
    },
    {
      "cell_type": "code",
      "execution_count": 27,
      "metadata": {
        "colab": {
          "base_uri": "https://localhost:8080/"
        },
        "id": "XSaTQFWmzqrm",
        "outputId": "9c13fc1a-d388-4bb3-baa4-733b38cfc003"
      },
      "outputs": [
        {
          "data": {
            "text/plain": [
              "70"
            ]
          },
          "execution_count": 27,
          "metadata": {},
          "output_type": "execute_result"
        }
      ],
      "source": [
        "len(tokenizer.vocab)"
      ]
    },
    {
      "cell_type": "code",
      "execution_count": 28,
      "metadata": {
        "id": "_12DdzJNmCAp"
      },
      "outputs": [],
      "source": [
        "def autoregressive_generation(model, prompt_tokens, max_new_tokens=20, eos_token_id=2, device='cpu'):\n",
        "\n",
        "    input_ids = torch.tensor([prompt_tokens], dtype=torch.long, device=device)\n",
        "    model.eval()\n",
        "\n",
        "    for _ in range(max_new_tokens):\n",
        "\n",
        "        seq_len = input_ids.size(1)\n",
        "        mask = causal_mask(seq_len).to(device)\n",
        "        mask = mask.unsqueeze(0).unsqueeze(0)  # (1, 1, T, T)\n",
        "\n",
        "        with torch.no_grad():\n",
        "            logits = model(input_ids, mask)  # (1, seq_len, vocab_size)\n",
        "\n",
        "        next_token_logits = logits[0, -1, :]  # (vocab_size,)\n",
        "\n",
        "        # Using softmax on logits to get the probability vector\n",
        "        probs = torch.softmax(next_token_logits, dim=-1)\n",
        "\n",
        "        # Greedy Decoding\n",
        "        next_token_id = torch.argmax(probs).item()\n",
        "\n",
        "        input_ids = torch.cat([input_ids, torch.tensor([[next_token_id]], device=device)], dim=1)\n",
        "        if next_token_id == eos_token_id:\n",
        "            break\n",
        "\n",
        "    output_token_ids = input_ids[0].tolist()\n",
        "    return output_token_ids\n"
      ]
    },
    {
      "cell_type": "markdown",
      "metadata": {
        "id": "7ON5Y-t7WKHt"
      },
      "source": [
        "### Trying on sample text"
      ]
    },
    {
      "cell_type": "code",
      "execution_count": 29,
      "metadata": {
        "id": "MJkQz0i8c_au"
      },
      "outputs": [],
      "source": [
        "sample_text = \"the cat is sitting by the door <eos> the mango is sweet\"\n",
        "\n",
        "def prepare_sample_text(sample_text):\n",
        "  sample_text_list = sample_text.split(\" \")\n",
        "  sample_text_list.append(\"<eos>\")\n",
        "  sample_tokens = [tokenizer.vocab[w] for w in sample_text_list]\n",
        "  return sample_tokens\n"
      ]
    },
    {
      "cell_type": "code",
      "execution_count": 30,
      "metadata": {
        "id": "VWhyMvJVlfEG"
      },
      "outputs": [],
      "source": [
        "# A dataset with repetitive batch\n",
        "def create_sample_dataset(seq, batch_size=2):\n",
        "    inputs = []\n",
        "    targets = []\n",
        "    for _ in range(batch_size):\n",
        "        inputs.append(seq[:-1])   # all but last token\n",
        "        targets.append(seq[1:])   # all but first token\n",
        "    return torch.tensor(inputs), torch.tensor(targets)"
      ]
    },
    {
      "cell_type": "markdown",
      "metadata": {
        "id": "3CDpTWB2Zz7o"
      },
      "source": [
        "#### Train loop"
      ]
    },
    {
      "cell_type": "code",
      "execution_count": 31,
      "metadata": {
        "colab": {
          "base_uri": "https://localhost:8080/"
        },
        "id": "I_N2bw18osf5",
        "outputId": "98436594-c828-4400-9744-e1ea92ad5592"
      },
      "outputs": [
        {
          "name": "stdout",
          "output_type": "stream",
          "text": [
            "Epoch 50, Loss: 0.5053\n",
            "Epoch 100, Loss: 0.1535\n",
            "Epoch 150, Loss: 0.0742\n",
            "Epoch 200, Loss: 0.0448\n",
            "Epoch 250, Loss: 0.0303\n",
            "Epoch 300, Loss: 0.0220\n"
          ]
        }
      ],
      "source": [
        "import matplotlib.pyplot as plt\n",
        "\n",
        "n_epochs = 300\n",
        "batch_size = 5\n",
        "loss_history = []\n",
        "\n",
        "for epoch in range(n_epochs):\n",
        "\n",
        "    tokens = prepare_sample_text(sample_text)\n",
        "    inputs, targets = create_sample_dataset(tokens, batch_size)\n",
        "    inputs, targets = inputs.to(device), targets.to(device)\n",
        "\n",
        "    seq_len = inputs.size(1)\n",
        "    mask = causal_mask(seq_len).to(device)\n",
        "    mask = mask.unsqueeze(0).unsqueeze(0)  # shape (1, 1, T, T)\n",
        "\n",
        "    logits = model(inputs, mask)\n",
        "\n",
        "    probs = torch.softmax(logits, dim=-1)\n",
        "\n",
        "    # Reshaping for CE loss: (B*T, vocab_size) vs (B*T)\n",
        "    logits = logits.view(-1, logits.size(-1))\n",
        "    targets = targets.view(-1)\n",
        "\n",
        "    # Compute loss\n",
        "    loss = loss_fn(logits, targets)\n",
        "    loss_history.append(loss.item())\n",
        "\n",
        "    # Backpropagation\n",
        "    optimizer.zero_grad()\n",
        "    loss.backward()\n",
        "    optimizer.step()\n",
        "\n",
        "    if (epoch+1) % 50 == 0:\n",
        "        print(f\"Epoch {epoch+1}, Loss: {loss.item():.4f}\")\n"
      ]
    },
    {
      "cell_type": "markdown",
      "metadata": {
        "id": "OuB5jPCf0B0v"
      },
      "source": [
        "#### Plotting the loss curve"
      ]
    },
    {
      "cell_type": "code",
      "execution_count": 32,
      "metadata": {
        "colab": {
          "base_uri": "https://localhost:8080/",
          "height": 472
        },
        "id": "HzuJop01pCDL",
        "outputId": "25dcf099-886c-4592-d479-ad3c79e406e4"
      },
      "outputs": [
        {
          "data": {
            "image/png": "[encoded data removed]",
            "text/plain": [
              "<Figure size 640x480 with 1 Axes>"
            ]
          },
          "metadata": {},
          "output_type": "display_data"
        }
      ],
      "source": [
        "plt.plot(loss_history)\n",
        "plt.xlabel(\"Epoch\")\n",
        "plt.ylabel(\"Loss\")\n",
        "plt.title(\"Training Loss Curve\")\n",
        "plt.show()"
      ]
    },
    {
      "cell_type": "code",
      "execution_count": 33,
      "metadata": {
        "colab": {
          "base_uri": "https://localhost:8080/"
        },
        "id": "x1PwU32lwFTo",
        "outputId": "7721f11e-577a-4a90-adf8-6d51b067f171"
      },
      "outputs": [
        {
          "name": "stdout",
          "output_type": "stream",
          "text": [
            "the mango is sitting by the door \n"
          ]
        }
      ],
      "source": [
        "def generate_from_prompt(prompt):\n",
        "  prompt_tokens = tokenizer.tokenize(prompt)\n",
        "  output_tokens = autoregressive_generation(model, prompt_tokens, max_new_tokens=10, eos_token_id=eos_token_id)\n",
        "  output_text = tokenizer.detokenize(output_tokens).replace(\"<eos>\", \"\")\n",
        "  return output_text\n",
        "\n",
        "prompt = \"the mango\"\n",
        "print(generate_from_prompt(prompt))"
      ]
    },
    {
      "cell_type": "markdown",
      "metadata": {
        "id": "oH3Q92Tm05p0"
      },
      "source": [
        "### Training on multiple sentences"
      ]
    },
    {
      "cell_type": "code",
      "execution_count": null,
      "metadata": {
        "id": "PcSEWdFC0Fps"
      },
      "outputs": [],
      "source": [
        "sentences = [\n",
        "    \"the cat sat by the mat <eos>\",\n",
        "    \"the cat is sitting by the door <eos>\",\n",
        "    \"mango is sweet <eos>\",\n",
        "    \"the mat is blue <eos>\",\n",
        "    \"the door is open <eos>\"\n",
        "]"
      ]
    },
    {
      "cell_type": "code",
      "execution_count": 35,
      "metadata": {
        "id": "cRJ3hD_t1AhL"
      },
      "outputs": [],
      "source": [
        "import random\n",
        "from torch.nn.utils.rnn import pad_sequence\n",
        "\n",
        "max_token_length = 8\n",
        "\n",
        "def create_batch(dataset, batch_size=2):\n",
        "    inputs, targets = [], []\n",
        "    for _ in range(batch_size):\n",
        "        seq = random.choice(dataset)\n",
        "        tokens = torch.tensor(prepare_sample_text(seq))\n",
        "        inputs.append(tokens[:-1])\n",
        "        targets.append(tokens[1:])\n",
        "\n",
        "    inputs = pad_sequence(inputs, batch_first=True, padding_value=pad_token_id)\n",
        "    targets = pad_sequence(targets, batch_first=True, padding_value=pad_token_id)\n",
        "    return torch.tensor(inputs), torch.tensor(targets)"
      ]
    },
    {
      "cell_type": "code",
      "execution_count": 36,
      "metadata": {
        "colab": {
          "base_uri": "https://localhost:8080/"
        },
        "id": "ReUsEqvf1QIr",
        "outputId": "28f0eec5-b2e0-4be7-a837-1ce1bf3abbca"
      },
      "outputs": [
        {
          "name": "stderr",
          "output_type": "stream",
          "text": [
            "/tmp/ipython-input-35-2615041147.py:16: UserWarning: To copy construct from a tensor, it is recommended to use sourceTensor.clone().detach() or sourceTensor.clone().detach().requires_grad_(True), rather than torch.tensor(sourceTensor).\n",
            "  return torch.tensor(inputs), torch.tensor(targets)\n"
          ]
        },
        {
          "name": "stdout",
          "output_type": "stream",
          "text": [
            "Epoch 50, Loss: 0.3021\n",
            "Epoch 100, Loss: 0.2262\n",
            "Epoch 150, Loss: 0.2049\n",
            "Epoch 200, Loss: 0.1609\n",
            "Epoch 250, Loss: 0.1573\n",
            "Epoch 300, Loss: 0.1541\n"
          ]
        }
      ],
      "source": [
        "import matplotlib.pyplot as plt\n",
        "\n",
        "n_epochs = 300\n",
        "batch_size = 5\n",
        "loss_history = []\n",
        "\n",
        "for epoch in range(n_epochs):\n",
        "    inputs, targets = create_batch(sentences, batch_size)\n",
        "    inputs, targets = inputs.to(device), targets.to(device)\n",
        "\n",
        "    seq_len = inputs.size(1)\n",
        "    mask = causal_mask(seq_len).to(device)\n",
        "    mask = mask.unsqueeze(0).unsqueeze(0)  # shape (1, 1, T, T)\n",
        "\n",
        "    logits = model(inputs, mask)\n",
        "    probs = torch.softmax(logits, dim=-1)\n",
        "\n",
        "    # Reshaping for CE loss: (B*T, vocab_size) vs (B*T)\n",
        "    logits = logits.view(-1, logits.size(-1))\n",
        "    targets = targets.view(-1)\n",
        "\n",
        "    loss = loss_fn(logits, targets)\n",
        "    loss_history.append(loss.item())\n",
        "\n",
        "    # Backpropagation\n",
        "    optimizer.zero_grad()\n",
        "    loss.backward()\n",
        "    optimizer.step()\n",
        "\n",
        "    if (epoch+1) % 50 == 0:\n",
        "        print(f\"Epoch {epoch+1}, Loss: {loss.item():.4f}\")\n"
      ]
    },
    {
      "cell_type": "code",
      "execution_count": 37,
      "metadata": {
        "colab": {
          "base_uri": "https://localhost:8080/"
        },
        "id": "LXZhGO761LtU",
        "outputId": "70161bc9-b5a7-44d7-9666-5f37db82eb5f"
      },
      "outputs": [
        {
          "name": "stdout",
          "output_type": "stream",
          "text": [
            "the mat is blue \n"
          ]
        }
      ],
      "source": [
        "prompt = \"the mat\"\n",
        "print(generate_from_prompt(prompt))"
      ]
    },
    {
      "cell_type": "code",
      "execution_count": 37,
      "metadata": {
        "id": "x0pBFAz08qNZ"
      },
      "outputs": [],
      "source": []
    }
  ],
  "metadata": {
    "colab": {
      "provenance": []
    },
    "kernelspec": {
      "display_name": "Python 3",
      "name": "python3"
    },
    "language_info": {
      "name": "python"
    }
  },
  "nbformat": 4,
  "nbformat_minor": 0
}
